{
  "nbformat": 4,
  "nbformat_minor": 0,
  "metadata": {
    "colab": {
      "provenance": [],
      "authorship_tag": "ABX9TyOlQUV6TN7V+uoRTQTb1rb8",
      "include_colab_link": true
    },
    "kernelspec": {
      "name": "python3",
      "display_name": "Python 3"
    },
    "language_info": {
      "name": "python"
    }
  },
  "cells": [
    {
      "cell_type": "markdown",
      "metadata": {
        "id": "view-in-github",
        "colab_type": "text"
      },
      "source": [
        "<a href=\"https://colab.research.google.com/github/JoabPereira/Lista-04-Ordena-o/blob/main/Ex_04_Lista_ordenada.ipynb\" target=\"_parent\"><img src=\"https://colab.research.google.com/assets/colab-badge.svg\" alt=\"Open In Colab\"/></a>"
      ]
    },
    {
      "cell_type": "code",
      "execution_count": null,
      "metadata": {
        "colab": {
          "base_uri": "https://localhost:8080/"
        },
        "id": "xYVFdhI-sGo7",
        "outputId": "774cf2fe-b1e6-40b9-e881-4871e5c1ae51"
      },
      "outputs": [
        {
          "output_type": "stream",
          "name": "stdout",
          "text": [
            "[1, 5, 8, 9, 10, 40, 100]\n"
          ]
        }
      ],
      "source": [
        "#Questão 01\n",
        "\n",
        "def bubbleSort(lista_1):\n",
        "  for passnum in range(len(lista_1)-1,0,-1):\n",
        "    for i in range(passnum):\n",
        "      if lista_1[i] > lista_1[i+1]:\n",
        "        temp = lista_1[i]\n",
        "        lista_1[i] = lista_1[i+1]\n",
        "        lista_1[i+1] = temp\n",
        "\n",
        "lista_1 = [10, 9, 5, 100, 40, 8, 1]\n",
        "bubbleSort(lista_1)\n",
        "print(lista_1)"
      ]
    },
    {
      "cell_type": "code",
      "source": [
        "#Questão 02\n",
        "\n",
        "def ordenar_vetor(lista_2, ordem='crescente'):\n",
        "    if ordem == 'crescente':\n",
        "        return sorted(lista_2)\n",
        "    elif ordem == 'decrescente':\n",
        "        return sorted(lista_2, reverse=True)\n",
        "    else:\n",
        "        print(ValueError(\"Parâmetro de ordem inválido. Use 'crescente' ou 'decrescente'.\"))\n",
        "\n",
        "lista_2 = [5, 2, 9, 1, 7]\n",
        "print(\"Vetor original:\", lista_2)\n",
        "\n",
        "vetor_ordenado_crescente = ordenar_vetor(lista_2, ordem='crescente')\n",
        "print(\"Vetor ordenado crescente:\", vetor_ordenado_crescente)\n",
        "\n",
        "vetor_ordenado_decrescente = ordenar_vetor(lista_2, ordem='decrescente')\n",
        "print(\"Vetor ordenado decrescente:\", vetor_ordenado_decrescente)\n"
      ],
      "metadata": {
        "colab": {
          "base_uri": "https://localhost:8080/"
        },
        "id": "fxtlfe2VvyVH",
        "outputId": "2109b251-7f5e-4f5c-e159-dffe50e1270b"
      },
      "execution_count": null,
      "outputs": [
        {
          "output_type": "stream",
          "name": "stdout",
          "text": [
            "Vetor original: [5, 2, 9, 1, 7]\n",
            "Vetor ordenado crescente: [1, 2, 5, 7, 9]\n",
            "Vetor ordenado decrescente: [9, 7, 5, 2, 1]\n"
          ]
        }
      ]
    },
    {
      "cell_type": "code",
      "source": [
        "#Questão 03\n",
        "\n",
        "def maior_valor(vetor):\n",
        "    if not vetor:\n",
        "      return None\n",
        "\n",
        "    maior = vetor[0]\n",
        "    for element in vetor[1:]:\n",
        "      if element > maior:\n",
        "        maior = element\n",
        "    return maior\n",
        "\n",
        "vetor = [1550,10, 11, 15, 100, 20, 15]\n",
        "maior_v = maior_valor(vetor)\n",
        "print(\"O maior valor do vetor é:\",maior_v)"
      ],
      "metadata": {
        "colab": {
          "base_uri": "https://localhost:8080/"
        },
        "id": "qLK6eJ8c2D9F",
        "outputId": "c1e5204a-4824-4c96-a3be-169a497ef772"
      },
      "execution_count": null,
      "outputs": [
        {
          "output_type": "stream",
          "name": "stdout",
          "text": [
            "O maior valor do vetor é: 1550\n"
          ]
        }
      ]
    },
    {
      "cell_type": "code",
      "source": [
        "#Questão 04\n",
        "\n",
        "def encontrar_segundo_menor(vetor):\n",
        "    if len(vetor) < 2:\n",
        "        return None\n",
        "\n",
        "    menor = float('inf')\n",
        "    segundo_menor = float('inf')\n",
        "\n",
        "    for elemento in vetor:\n",
        "        if elemento < menor:\n",
        "            segundo_menor = menor\n",
        "            menor = elemento\n",
        "        elif elemento < segundo_menor and elemento != menor:\n",
        "            segundo_menor = elemento\n",
        "\n",
        "    return segundo_menor if segundo_menor != float('inf') else None\n",
        "\n",
        "\n",
        "vetor = [1550,10, 11, 15, 100, 20, 15]\n",
        "segundo_menor_valor = encontrar_segundo_menor(vetor)\n",
        "print(\"Segundo menor valor do vetor:\", segundo_menor_valor)"
      ],
      "metadata": {
        "colab": {
          "base_uri": "https://localhost:8080/"
        },
        "id": "eIST-Tjk5NAR",
        "outputId": "079a2875-57b8-4904-b718-9ed17f0c4a1d"
      },
      "execution_count": null,
      "outputs": [
        {
          "output_type": "stream",
          "name": "stdout",
          "text": [
            "Segundo menor valor do vetor: 11\n"
          ]
        }
      ]
    },
    {
      "cell_type": "code",
      "source": [
        "#Questão 05\n",
        "\n",
        "def valor_duplicado(vtr):\n",
        "  vetor_sem_duplicatas = list(set(vtr))\n",
        "  return vetor_sem_duplicatas\n",
        "\n",
        "vtr = [1, 2, 10, 1, 2, 3, 5]\n",
        "vetor_sem_duplicatas = valor_duplicado(vtr)\n",
        "print(\"Vetor original: \", vtr)\n",
        "print(\"Vetor sem duplicata: \", vetor_sem_duplicatas)"
      ],
      "metadata": {
        "colab": {
          "base_uri": "https://localhost:8080/"
        },
        "id": "G-Ny890e0ycx",
        "outputId": "8d662b1b-f43d-463a-ffdd-7cd8fe1fcaec"
      },
      "execution_count": null,
      "outputs": [
        {
          "output_type": "stream",
          "name": "stdout",
          "text": [
            "Vetor original:  [1, 2, 10, 1, 2, 3, 5]\n",
            "Vetor sem duplicata:  [1, 2, 3, 5, 10]\n"
          ]
        }
      ]
    },
    {
      "cell_type": "code",
      "source": [
        "#Questão 06\n",
        "\n",
        "def ordem_decrecente(vetor2, ordem='decresente'):\n",
        "  if ordem == 'decrescente':\n",
        "    vetor_ordenado = sorted(vetor2, reverse=True)\n",
        "    numeros_pares = sum(1 for num in vetor_ordenado if num % 2 == 0)\n",
        "    numeros_impares = len(vetor_ordenado) - numeros_pares\n",
        "    return vetor_ordenado, numeros_pares, numeros_impares\n",
        "  else:\n",
        "      print(\"Parametro inválido\")\n",
        "\n",
        "vetor2 = [1550,10, 11, 15, 100, 20, 15]\n",
        "resultado, pares, impares = ordem_decrecente(vetor2, ordem='decrescente')\n",
        "print(\"Vetor ordenado: \", resultado)\n",
        "print(\"Quantidade de números pares: \", pares)\n",
        "print(\"Quantidade de números impares: \", impares)"
      ],
      "metadata": {
        "colab": {
          "base_uri": "https://localhost:8080/"
        },
        "id": "YkBv4mc-4230",
        "outputId": "ac09b18f-2df3-450f-edab-416caadb9177"
      },
      "execution_count": null,
      "outputs": [
        {
          "output_type": "stream",
          "name": "stdout",
          "text": [
            "Vetor ordenado:  [1550, 100, 20, 15, 15, 11, 10]\n",
            "Quantidade de números pares:  4\n",
            "Quantidade de números impares:  3\n"
          ]
        }
      ]
    },
    {
      "cell_type": "code",
      "source": [
        "#Questão 07\n",
        "\n",
        "def terceiro_maior(vetor):\n",
        "    vetor_unico = sorted(set(vetor), reverse=True)\n",
        "\n",
        "    if len(vetor_unico) >= 3:\n",
        "        return vetor_unico[2]\n",
        "    else:\n",
        "        return \"Não há terceiro maior número\"\n",
        "\n",
        "vetor = [1550, 100, 20, 15, 15, 11, 10]\n",
        "terceiro_maior_numero = terceiro_maior(vetor)\n",
        "print(\"Terceiro maior número:\", terceiro_maior_numero)\n"
      ],
      "metadata": {
        "colab": {
          "base_uri": "https://localhost:8080/"
        },
        "id": "YoVGTKpv9U7U",
        "outputId": "7b715669-15f5-467a-c05d-ad4d0111ada9"
      },
      "execution_count": null,
      "outputs": [
        {
          "output_type": "stream",
          "name": "stdout",
          "text": [
            "Terceiro maior número: 20\n"
          ]
        }
      ]
    },
    {
      "cell_type": "code",
      "source": [
        "#Questão 08\n",
        "\n",
        "def encontrar_mediana(vetor):\n",
        "    vetor_ordenado = sorted(vetor)\n",
        "    tamanho = len(vetor_ordenado)\n",
        "    indice_mediana = tamanho // 2\n",
        "\n",
        "    if tamanho % 2 != 0:\n",
        "        return vetor_ordenado[indice_mediana]\n",
        "    else:\n",
        "        return (vetor_ordenado[indice_mediana - 1] + vetor_ordenado[indice_mediana]) / 2\n",
        "\n",
        "vetor = [1550, 100, 20, 15, 15, 11, 10]\n",
        "mediana = encontrar_mediana(vetor)\n",
        "print(\"Mediana do vetor:\", mediana)\n"
      ],
      "metadata": {
        "colab": {
          "base_uri": "https://localhost:8080/"
        },
        "id": "hnU74KiQ-Kxk",
        "outputId": "88e236f7-0a56-49a8-ddbf-3d93a44864af"
      },
      "execution_count": null,
      "outputs": [
        {
          "output_type": "stream",
          "name": "stdout",
          "text": [
            "Mediana do vetor: 15\n"
          ]
        }
      ]
    }
  ]
}